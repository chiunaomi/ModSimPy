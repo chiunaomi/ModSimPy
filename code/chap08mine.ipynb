{
 "cells": [
  {
   "cell_type": "markdown",
   "metadata": {},
   "source": [
    "# Modeling and Simulation in Python\n",
    "\n",
    "Chapter 8: Pharmacokinetics\n",
    "\n",
    "Copyright 2017 Allen Downey\n",
    "\n",
    "License: [Creative Commons Attribution 4.0 International](https://creativecommons.org/licenses/by/4.0)\n"
   ]
  },
  {
   "cell_type": "code",
   "execution_count": 1,
   "metadata": {
    "collapsed": true
   },
   "outputs": [],
   "source": [
    "# If you want the figures to appear in the notebook, \n",
    "# and you want to interact with them, use\n",
    "# %matplotlib notebook\n",
    "\n",
    "# If you want the figures to appear in the notebook, \n",
    "# and you don't want to interact with them, use\n",
    "# %matplotlib inline\n",
    "\n",
    "# If you want the figures to appear in separate windows, use\n",
    "# %matplotlib qt5\n",
    "\n",
    "# tempo switch from one to another, you have to select Kernel->Restart\n",
    "\n",
    "%matplotlib inline\n",
    "\n",
    "from modsim import *"
   ]
  },
  {
   "cell_type": "markdown",
   "metadata": {},
   "source": [
    "### Data\n",
    "\n",
    "We have data from Pacini and Bergman (1986), \"MINMOD: a computer program to calculate insulin sensitivity and pancreatic responsivity from the frequently sampled intravenous glucose tolerance test\", *Computer Methods and Programs in Biomedicine*, 23: 113-122.."
   ]
  },
  {
   "cell_type": "code",
   "execution_count": 2,
   "metadata": {},
   "outputs": [
    {
     "data": {
      "text/html": [
       "<div>\n",
       "<style>\n",
       "    .dataframe thead tr:only-child th {\n",
       "        text-align: right;\n",
       "    }\n",
       "\n",
       "    .dataframe thead th {\n",
       "        text-align: left;\n",
       "    }\n",
       "\n",
       "    .dataframe tbody tr th {\n",
       "        vertical-align: top;\n",
       "    }\n",
       "</style>\n",
       "<table border=\"1\" class=\"dataframe\">\n",
       "  <thead>\n",
       "    <tr style=\"text-align: right;\">\n",
       "      <th></th>\n",
       "      <th>glucose</th>\n",
       "      <th>insulin</th>\n",
       "    </tr>\n",
       "    <tr>\n",
       "      <th>time</th>\n",
       "      <th></th>\n",
       "      <th></th>\n",
       "    </tr>\n",
       "  </thead>\n",
       "  <tbody>\n",
       "    <tr>\n",
       "      <th>0</th>\n",
       "      <td>92</td>\n",
       "      <td>11</td>\n",
       "    </tr>\n",
       "    <tr>\n",
       "      <th>2</th>\n",
       "      <td>350</td>\n",
       "      <td>26</td>\n",
       "    </tr>\n",
       "    <tr>\n",
       "      <th>4</th>\n",
       "      <td>287</td>\n",
       "      <td>130</td>\n",
       "    </tr>\n",
       "    <tr>\n",
       "      <th>6</th>\n",
       "      <td>251</td>\n",
       "      <td>85</td>\n",
       "    </tr>\n",
       "    <tr>\n",
       "      <th>8</th>\n",
       "      <td>240</td>\n",
       "      <td>51</td>\n",
       "    </tr>\n",
       "    <tr>\n",
       "      <th>10</th>\n",
       "      <td>216</td>\n",
       "      <td>49</td>\n",
       "    </tr>\n",
       "    <tr>\n",
       "      <th>12</th>\n",
       "      <td>211</td>\n",
       "      <td>45</td>\n",
       "    </tr>\n",
       "    <tr>\n",
       "      <th>14</th>\n",
       "      <td>205</td>\n",
       "      <td>41</td>\n",
       "    </tr>\n",
       "    <tr>\n",
       "      <th>16</th>\n",
       "      <td>196</td>\n",
       "      <td>35</td>\n",
       "    </tr>\n",
       "    <tr>\n",
       "      <th>19</th>\n",
       "      <td>192</td>\n",
       "      <td>30</td>\n",
       "    </tr>\n",
       "    <tr>\n",
       "      <th>22</th>\n",
       "      <td>172</td>\n",
       "      <td>30</td>\n",
       "    </tr>\n",
       "    <tr>\n",
       "      <th>27</th>\n",
       "      <td>163</td>\n",
       "      <td>27</td>\n",
       "    </tr>\n",
       "    <tr>\n",
       "      <th>32</th>\n",
       "      <td>142</td>\n",
       "      <td>30</td>\n",
       "    </tr>\n",
       "    <tr>\n",
       "      <th>42</th>\n",
       "      <td>124</td>\n",
       "      <td>22</td>\n",
       "    </tr>\n",
       "    <tr>\n",
       "      <th>52</th>\n",
       "      <td>105</td>\n",
       "      <td>15</td>\n",
       "    </tr>\n",
       "    <tr>\n",
       "      <th>62</th>\n",
       "      <td>92</td>\n",
       "      <td>15</td>\n",
       "    </tr>\n",
       "    <tr>\n",
       "      <th>72</th>\n",
       "      <td>84</td>\n",
       "      <td>11</td>\n",
       "    </tr>\n",
       "    <tr>\n",
       "      <th>82</th>\n",
       "      <td>77</td>\n",
       "      <td>10</td>\n",
       "    </tr>\n",
       "    <tr>\n",
       "      <th>92</th>\n",
       "      <td>82</td>\n",
       "      <td>8</td>\n",
       "    </tr>\n",
       "    <tr>\n",
       "      <th>102</th>\n",
       "      <td>81</td>\n",
       "      <td>11</td>\n",
       "    </tr>\n",
       "    <tr>\n",
       "      <th>122</th>\n",
       "      <td>82</td>\n",
       "      <td>7</td>\n",
       "    </tr>\n",
       "    <tr>\n",
       "      <th>142</th>\n",
       "      <td>82</td>\n",
       "      <td>8</td>\n",
       "    </tr>\n",
       "    <tr>\n",
       "      <th>162</th>\n",
       "      <td>85</td>\n",
       "      <td>8</td>\n",
       "    </tr>\n",
       "    <tr>\n",
       "      <th>182</th>\n",
       "      <td>90</td>\n",
       "      <td>7</td>\n",
       "    </tr>\n",
       "  </tbody>\n",
       "</table>\n",
       "</div>"
      ],
      "text/plain": [
       "      glucose  insulin\n",
       "time                  \n",
       "0          92       11\n",
       "2         350       26\n",
       "4         287      130\n",
       "6         251       85\n",
       "8         240       51\n",
       "10        216       49\n",
       "12        211       45\n",
       "14        205       41\n",
       "16        196       35\n",
       "19        192       30\n",
       "22        172       30\n",
       "27        163       27\n",
       "32        142       30\n",
       "42        124       22\n",
       "52        105       15\n",
       "62         92       15\n",
       "72         84       11\n",
       "82         77       10\n",
       "92         82        8\n",
       "102        81       11\n",
       "122        82        7\n",
       "142        82        8\n",
       "162        85        8\n",
       "182        90        7"
      ]
     },
     "execution_count": 2,
     "metadata": {},
     "output_type": "execute_result"
    }
   ],
   "source": [
    "data = pd.read_csv('glucose_insulin.csv', index_col='time')\n",
    "data"
   ]
  },
  {
   "cell_type": "markdown",
   "metadata": {},
   "source": [
    "Here's what the glucose time series looks like."
   ]
  },
  {
   "cell_type": "code",
   "execution_count": 3,
   "metadata": {},
   "outputs": [
    {
     "data": {
      "image/png": "[encoded data removed]",
      "text/plain": [
       "<matplotlib.figure.Figure at 0x1e305bc99e8>"
      ]
     },
     "metadata": {},
     "output_type": "display_data"
    }
   ],
   "source": [
    "plot(data.glucose, 'bo', label='glucose')\n",
    "decorate(xlabel='Time (min)',\n",
    "         ylabel='Concentration (mg/dL)')"
   ]
  },
  {
   "cell_type": "markdown",
   "metadata": {},
   "source": [
    "And the insulin time series."
   ]
  },
  {
   "cell_type": "code",
   "execution_count": 4,
   "metadata": {},
   "outputs": [
    {
     "data": {
      "image/png": "[encoded data removed]",
      "text/plain": [
       "<matplotlib.figure.Figure at 0x1e3060dfdd8>"
      ]
     },
     "metadata": {},
     "output_type": "display_data"
    }
   ],
   "source": [
    "plot(data.insulin, 'go', label='insulin')\n",
    "decorate(xlabel='Time (min)',\n",
    "         ylabel='Concentration ($\\mu$U/mL)')"
   ]
  },
  {
   "cell_type": "markdown",
   "metadata": {},
   "source": [
    "For the book, I put them in a single figure, using `subplot`"
   ]
  },
  {
   "cell_type": "code",
   "execution_count": 5,
   "metadata": {},
   "outputs": [
    {
     "name": "stdout",
     "output_type": "stream",
     "text": [
      "Saving figure to file chap08-fig01.pdf\n"
     ]
    },
    {
     "data": {
      "image/png": "[encoded data removed]",
      "text/plain": [
       "<matplotlib.figure.Figure at 0x1e3061bce48>"
      ]
     },
     "metadata": {},
     "output_type": "display_data"
    }
   ],
   "source": [
    "subplot(2, 1, 1)\n",
    "plot(data.glucose, 'bo', label='glucose')\n",
    "decorate(ylabel='mg/dL')\n",
    "\n",
    "subplot(2, 1, 2)\n",
    "plot(data.insulin, 'go', label='insulin')\n",
    "decorate(xlabel='Time (min)',\n",
    "         ylabel='$\\mu$U/mL')\n",
    "\n",
    "savefig('chap08-fig01.pdf')"
   ]
  },
  {
   "cell_type": "markdown",
   "metadata": {},
   "source": [
    "### Interpolation\n",
    "\n",
    "We have measurements of insulin concentration at discrete points in time, but we need to estimate it at intervening points.  We'll use `interpolate`, which is a wrapper for `scipy.interpolate.interp1d`"
   ]
  },
  {
   "cell_type": "code",
   "execution_count": 6,
   "metadata": {
    "collapsed": true
   },
   "outputs": [],
   "source": [
    "%psource interpolate"
   ]
  },
  {
   "cell_type": "markdown",
   "metadata": {},
   "source": [
    "The return value from `interpolate` is a function."
   ]
  },
  {
   "cell_type": "code",
   "execution_count": 7,
   "metadata": {
    "collapsed": true
   },
   "outputs": [],
   "source": [
    "I = interpolate(data.insulin, kind = 'quadratic')"
   ]
  },
  {
   "cell_type": "markdown",
   "metadata": {},
   "source": [
    "We can use the result, `I`, to estimate the insulin level at any point in time."
   ]
  },
  {
   "cell_type": "code",
   "execution_count": 8,
   "metadata": {
    "scrolled": true
   },
   "outputs": [
    {
     "data": {
      "text/plain": [
       "array(62.804114412529)"
      ]
     },
     "execution_count": 8,
     "metadata": {},
     "output_type": "execute_result"
    }
   ],
   "source": [
    "I(7)"
   ]
  },
  {
   "cell_type": "markdown",
   "metadata": {},
   "source": [
    "`I` can also take an array of time and return an array of estimates, which we can plot."
   ]
  },
  {
   "cell_type": "code",
   "execution_count": 9,
   "metadata": {},
   "outputs": [
    {
     "name": "stdout",
     "output_type": "stream",
     "text": [
      "Saving figure to file chap08-fig02.pdf\n"
     ]
    },
    {
     "data": {
      "image/png": "[encoded data removed]",
      "text/plain": [
       "<matplotlib.figure.Figure at 0x1e3065f2a90>"
      ]
     },
     "metadata": {},
     "output_type": "display_data"
    }
   ],
   "source": [
    "ts = linrange(0, 182, 2)\n",
    "\n",
    "plot(data.insulin, 'go', label='insulin data')\n",
    "plot(ts, I(ts), color='green', label='interpolated')\n",
    "\n",
    "decorate(xlabel='Time (min)',\n",
    "         ylabel='Concentration ($\\mu$U/mL)')\n",
    "\n",
    "savefig('chap08-fig02.pdf')"
   ]
  },
  {
   "cell_type": "markdown",
   "metadata": {},
   "source": [
    "**Exercise:** [Read the documentation](https://docs.scipy.org/doc/scipy/reference/generated/scipy.interpolate.interp1d.html) of `scipy.interpolate.interp1d`.  Pass a keyword argument to `interpolate` to specify one of the other kinds of interpolation, and run the code again to see what it looks like. "
   ]
  },
  {
   "cell_type": "markdown",
   "metadata": {},
   "source": [
    "### The glucose minimal model\n",
    "\n",
    "I'll cheat by starting with parameters that fit the data roughly; then we'll see how to improve them."
   ]
  },
  {
   "cell_type": "code",
   "execution_count": 10,
   "metadata": {
    "collapsed": true
   },
   "outputs": [],
   "source": [
    "k1 = 0.03\n",
    "k2 = 0.02\n",
    "k3 = 1e-05\n",
    "G0 = 290"
   ]
  },
  {
   "cell_type": "markdown",
   "metadata": {},
   "source": [
    "To estimate basal levels, we'll use the concentrations at `t=0`."
   ]
  },
  {
   "cell_type": "code",
   "execution_count": 11,
   "metadata": {
    "collapsed": true
   },
   "outputs": [],
   "source": [
    "Gb = data.glucose[0]\n",
    "Ib = data.insulin[0]"
   ]
  },
  {
   "cell_type": "markdown",
   "metadata": {},
   "source": [
    "In the initial conditions, `X(0)=0` and `G(0)=G0`, where `G0` is one of the parameters we'll choose."
   ]
  },
  {
   "cell_type": "code",
   "execution_count": 12,
   "metadata": {
    "collapsed": true
   },
   "outputs": [],
   "source": [
    "init = State(G=G0, X=0)"
   ]
  },
  {
   "cell_type": "markdown",
   "metadata": {},
   "source": [
    "Here's the system object with all parameters and the interpolation object `I`."
   ]
  },
  {
   "cell_type": "code",
   "execution_count": 13,
   "metadata": {
    "collapsed": true
   },
   "outputs": [],
   "source": [
    "system = System(init=init, \n",
    "                k1=k1, k2=k2, k3=k3,\n",
    "                I=I, Gb=Gb, Ib=Ib,\n",
    "                t0=0, t_end=182, dt=0.5)"
   ]
  },
  {
   "cell_type": "markdown",
   "metadata": {},
   "source": [
    "And here's the update function.  Using `unpack` to make the system variables accessible without using dot notation, which makes the translation of the differential equations more readable and checkable."
   ]
  },
  {
   "cell_type": "code",
   "execution_count": 14,
   "metadata": {
    "collapsed": true
   },
   "outputs": [],
   "source": [
    "def update_func(state, t, system):\n",
    "    \"\"\"Updates the glucose minimal model.\n",
    "    \n",
    "    state: State object\n",
    "    t: time in min\n",
    "    system: System object\n",
    "    \n",
    "    returns: State object\n",
    "    \"\"\"\n",
    "    G, X = state\n",
    "    unpack(system)\n",
    "        \n",
    "    dGdt = -k1 * (G - Gb) - X*G\n",
    "    dXdt = k3 * (I(t) - Ib) - k2 * X\n",
    "    \n",
    "    G += dGdt * dt\n",
    "    X += dXdt * dt\n",
    "\n",
    "    return State(G=G, X=X)"
   ]
  },
  {
   "cell_type": "markdown",
   "metadata": {},
   "source": [
    "Before running the simulation, it is always a good idea to test the update function using the initial conditions.  In this case we can veryify that the results are at least qualitatively correct."
   ]
  },
  {
   "cell_type": "code",
   "execution_count": 15,
   "metadata": {},
   "outputs": [
    {
     "data": {
      "text/html": [
       "<div>\n",
       "<style>\n",
       "    .dataframe thead tr:only-child th {\n",
       "        text-align: right;\n",
       "    }\n",
       "\n",
       "    .dataframe thead th {\n",
       "        text-align: left;\n",
       "    }\n",
       "\n",
       "    .dataframe tbody tr th {\n",
       "        vertical-align: top;\n",
       "    }\n",
       "</style>\n",
       "<table border=\"1\" class=\"dataframe\">\n",
       "  <thead>\n",
       "    <tr style=\"text-align: right;\">\n",
       "      <th></th>\n",
       "      <th>value</th>\n",
       "    </tr>\n",
       "  </thead>\n",
       "  <tbody>\n",
       "    <tr>\n",
       "      <th>G</th>\n",
       "      <td>287.03</td>\n",
       "    </tr>\n",
       "    <tr>\n",
       "      <th>X</th>\n",
       "      <td>0.00</td>\n",
       "    </tr>\n",
       "  </tbody>\n",
       "</table>\n",
       "</div>"
      ],
      "text/plain": [
       "G    287.03\n",
       "X      0.00\n",
       "dtype: float64"
      ]
     },
     "execution_count": 15,
     "metadata": {},
     "output_type": "execute_result"
    }
   ],
   "source": [
    "update_func(init, 0, system)"
   ]
  },
  {
   "cell_type": "markdown",
   "metadata": {},
   "source": [
    "Now run simulation is pretty much the same as it always is."
   ]
  },
  {
   "cell_type": "code",
   "execution_count": 16,
   "metadata": {
    "collapsed": true
   },
   "outputs": [],
   "source": [
    "def run_simulation(system, update_func):\n",
    "    \"\"\"Runs a simulation of the system.\n",
    "    \n",
    "    Adds a TimeFrame to `system` as `results`\n",
    "    \n",
    "    system: System object\n",
    "    update_func: function that updates state\n",
    "    \"\"\"\n",
    "    unpack(system)\n",
    "    \n",
    "    frame = TimeFrame(columns=init.index)\n",
    "    frame.loc[t0] = init\n",
    "    ts = linrange(t0, t_end-dt, dt)\n",
    "    \n",
    "    for t in ts:\n",
    "        frame.loc[t+dt] = update_func(frame.loc[t], t, system)\n",
    "    \n",
    "    system.results = frame"
   ]
  },
  {
   "cell_type": "markdown",
   "metadata": {},
   "source": [
    "And here's how we run it.  `%time` is a Jupyter magic command that runs the function and reports its run time."
   ]
  },
  {
   "cell_type": "code",
   "execution_count": 17,
   "metadata": {},
   "outputs": [
    {
     "name": "stdout",
     "output_type": "stream",
     "text": [
      "Wall time: 705 ms\n"
     ]
    }
   ],
   "source": [
    "%time run_simulation(system, update_func)"
   ]
  },
  {
   "cell_type": "markdown",
   "metadata": {},
   "source": [
    "The results are in a `TimeFrame object` with one column per state variable."
   ]
  },
  {
   "cell_type": "code",
   "execution_count": 18,
   "metadata": {},
   "outputs": [
    {
     "data": {
      "text/html": [
       "<div>\n",
       "<style>\n",
       "    .dataframe thead tr:only-child th {\n",
       "        text-align: right;\n",
       "    }\n",
       "\n",
       "    .dataframe thead th {\n",
       "        text-align: left;\n",
       "    }\n",
       "\n",
       "    .dataframe tbody tr th {\n",
       "        vertical-align: top;\n",
       "    }\n",
       "</style>\n",
       "<table border=\"1\" class=\"dataframe\">\n",
       "  <thead>\n",
       "    <tr style=\"text-align: right;\">\n",
       "      <th></th>\n",
       "      <th>G</th>\n",
       "      <th>X</th>\n",
       "    </tr>\n",
       "  </thead>\n",
       "  <tbody>\n",
       "    <tr>\n",
       "      <th>0.0</th>\n",
       "      <td>290.000000</td>\n",
       "      <td>0.000000</td>\n",
       "    </tr>\n",
       "    <tr>\n",
       "      <th>0.5</th>\n",
       "      <td>287.030000</td>\n",
       "      <td>0.000000</td>\n",
       "    </tr>\n",
       "    <tr>\n",
       "      <th>1.0</th>\n",
       "      <td>284.104550</td>\n",
       "      <td>-0.000044</td>\n",
       "    </tr>\n",
       "    <tr>\n",
       "      <th>1.5</th>\n",
       "      <td>281.229268</td>\n",
       "      <td>-0.000090</td>\n",
       "    </tr>\n",
       "    <tr>\n",
       "      <th>2.0</th>\n",
       "      <td>278.403529</td>\n",
       "      <td>-0.000096</td>\n",
       "    </tr>\n",
       "    <tr>\n",
       "      <th>2.5</th>\n",
       "      <td>275.620863</td>\n",
       "      <td>-0.000020</td>\n",
       "    </tr>\n",
       "    <tr>\n",
       "      <th>3.0</th>\n",
       "      <td>272.869334</td>\n",
       "      <td>0.000179</td>\n",
       "    </tr>\n",
       "    <tr>\n",
       "      <th>3.5</th>\n",
       "      <td>270.131906</td>\n",
       "      <td>0.000541</td>\n",
       "    </tr>\n",
       "    <tr>\n",
       "      <th>4.0</th>\n",
       "      <td>267.386792</td>\n",
       "      <td>0.001052</td>\n",
       "    </tr>\n",
       "    <tr>\n",
       "      <th>4.5</th>\n",
       "      <td>264.615400</td>\n",
       "      <td>0.001636</td>\n",
       "    </tr>\n",
       "    <tr>\n",
       "      <th>5.0</th>\n",
       "      <td>261.809705</td>\n",
       "      <td>0.002223</td>\n",
       "    </tr>\n",
       "    <tr>\n",
       "      <th>5.5</th>\n",
       "      <td>258.971601</td>\n",
       "      <td>0.002740</td>\n",
       "    </tr>\n",
       "    <tr>\n",
       "      <th>6.0</th>\n",
       "      <td>256.112255</td>\n",
       "      <td>0.003160</td>\n",
       "    </tr>\n",
       "    <tr>\n",
       "      <th>6.5</th>\n",
       "      <td>253.245932</td>\n",
       "      <td>0.003498</td>\n",
       "    </tr>\n",
       "    <tr>\n",
       "      <th>7.0</th>\n",
       "      <td>250.384283</td>\n",
       "      <td>0.003770</td>\n",
       "    </tr>\n",
       "    <tr>\n",
       "      <th>7.5</th>\n",
       "      <td>247.536483</td>\n",
       "      <td>0.003992</td>\n",
       "    </tr>\n",
       "    <tr>\n",
       "      <th>8.0</th>\n",
       "      <td>244.709378</td>\n",
       "      <td>0.004176</td>\n",
       "    </tr>\n",
       "    <tr>\n",
       "      <th>8.5</th>\n",
       "      <td>241.907820</td>\n",
       "      <td>0.004334</td>\n",
       "    </tr>\n",
       "    <tr>\n",
       "      <th>9.0</th>\n",
       "      <td>239.134995</td>\n",
       "      <td>0.004478</td>\n",
       "    </tr>\n",
       "    <tr>\n",
       "      <th>9.5</th>\n",
       "      <td>236.392528</td>\n",
       "      <td>0.004620</td>\n",
       "    </tr>\n",
       "    <tr>\n",
       "      <th>10.0</th>\n",
       "      <td>233.680592</td>\n",
       "      <td>0.004763</td>\n",
       "    </tr>\n",
       "    <tr>\n",
       "      <th>10.5</th>\n",
       "      <td>230.998839</td>\n",
       "      <td>0.004906</td>\n",
       "    </tr>\n",
       "    <tr>\n",
       "      <th>11.0</th>\n",
       "      <td>228.347255</td>\n",
       "      <td>0.005044</td>\n",
       "    </tr>\n",
       "    <tr>\n",
       "      <th>11.5</th>\n",
       "      <td>225.726142</td>\n",
       "      <td>0.005176</td>\n",
       "    </tr>\n",
       "    <tr>\n",
       "      <th>12.0</th>\n",
       "      <td>223.136086</td>\n",
       "      <td>0.005300</td>\n",
       "    </tr>\n",
       "    <tr>\n",
       "      <th>12.5</th>\n",
       "      <td>220.577749</td>\n",
       "      <td>0.005417</td>\n",
       "    </tr>\n",
       "    <tr>\n",
       "      <th>13.0</th>\n",
       "      <td>218.051663</td>\n",
       "      <td>0.005528</td>\n",
       "    </tr>\n",
       "    <tr>\n",
       "      <th>13.5</th>\n",
       "      <td>215.558239</td>\n",
       "      <td>0.005633</td>\n",
       "    </tr>\n",
       "    <tr>\n",
       "      <th>14.0</th>\n",
       "      <td>213.097773</td>\n",
       "      <td>0.005732</td>\n",
       "    </tr>\n",
       "    <tr>\n",
       "      <th>14.5</th>\n",
       "      <td>210.670550</td>\n",
       "      <td>0.005825</td>\n",
       "    </tr>\n",
       "    <tr>\n",
       "      <th>...</th>\n",
       "      <td>...</td>\n",
       "      <td>...</td>\n",
       "    </tr>\n",
       "    <tr>\n",
       "      <th>167.5</th>\n",
       "      <td>90.548441</td>\n",
       "      <td>-0.000454</td>\n",
       "    </tr>\n",
       "    <tr>\n",
       "      <th>168.0</th>\n",
       "      <td>90.590749</td>\n",
       "      <td>-0.000465</td>\n",
       "    </tr>\n",
       "    <tr>\n",
       "      <th>168.5</th>\n",
       "      <td>90.632952</td>\n",
       "      <td>-0.000477</td>\n",
       "    </tr>\n",
       "    <tr>\n",
       "      <th>169.0</th>\n",
       "      <td>90.675052</td>\n",
       "      <td>-0.000488</td>\n",
       "    </tr>\n",
       "    <tr>\n",
       "      <th>169.5</th>\n",
       "      <td>90.717051</td>\n",
       "      <td>-0.000499</td>\n",
       "    </tr>\n",
       "    <tr>\n",
       "      <th>170.0</th>\n",
       "      <td>90.758950</td>\n",
       "      <td>-0.000511</td>\n",
       "    </tr>\n",
       "    <tr>\n",
       "      <th>170.5</th>\n",
       "      <td>90.800752</td>\n",
       "      <td>-0.000522</td>\n",
       "    </tr>\n",
       "    <tr>\n",
       "      <th>171.0</th>\n",
       "      <td>90.842458</td>\n",
       "      <td>-0.000534</td>\n",
       "    </tr>\n",
       "    <tr>\n",
       "      <th>171.5</th>\n",
       "      <td>90.884070</td>\n",
       "      <td>-0.000545</td>\n",
       "    </tr>\n",
       "    <tr>\n",
       "      <th>172.0</th>\n",
       "      <td>90.925591</td>\n",
       "      <td>-0.000557</td>\n",
       "    </tr>\n",
       "    <tr>\n",
       "      <th>172.5</th>\n",
       "      <td>90.967023</td>\n",
       "      <td>-0.000568</td>\n",
       "    </tr>\n",
       "    <tr>\n",
       "      <th>173.0</th>\n",
       "      <td>91.008367</td>\n",
       "      <td>-0.000580</td>\n",
       "    </tr>\n",
       "    <tr>\n",
       "      <th>173.5</th>\n",
       "      <td>91.049626</td>\n",
       "      <td>-0.000591</td>\n",
       "    </tr>\n",
       "    <tr>\n",
       "      <th>174.0</th>\n",
       "      <td>91.090802</td>\n",
       "      <td>-0.000603</td>\n",
       "    </tr>\n",
       "    <tr>\n",
       "      <th>174.5</th>\n",
       "      <td>91.131899</td>\n",
       "      <td>-0.000614</td>\n",
       "    </tr>\n",
       "    <tr>\n",
       "      <th>175.0</th>\n",
       "      <td>91.172917</td>\n",
       "      <td>-0.000626</td>\n",
       "    </tr>\n",
       "    <tr>\n",
       "      <th>175.5</th>\n",
       "      <td>91.213861</td>\n",
       "      <td>-0.000638</td>\n",
       "    </tr>\n",
       "    <tr>\n",
       "      <th>176.0</th>\n",
       "      <td>91.254731</td>\n",
       "      <td>-0.000649</td>\n",
       "    </tr>\n",
       "    <tr>\n",
       "      <th>176.5</th>\n",
       "      <td>91.295531</td>\n",
       "      <td>-0.000661</td>\n",
       "    </tr>\n",
       "    <tr>\n",
       "      <th>177.0</th>\n",
       "      <td>91.336264</td>\n",
       "      <td>-0.000673</td>\n",
       "    </tr>\n",
       "    <tr>\n",
       "      <th>177.5</th>\n",
       "      <td>91.376932</td>\n",
       "      <td>-0.000684</td>\n",
       "    </tr>\n",
       "    <tr>\n",
       "      <th>178.0</th>\n",
       "      <td>91.417539</td>\n",
       "      <td>-0.000696</td>\n",
       "    </tr>\n",
       "    <tr>\n",
       "      <th>178.5</th>\n",
       "      <td>91.458085</td>\n",
       "      <td>-0.000708</td>\n",
       "    </tr>\n",
       "    <tr>\n",
       "      <th>179.0</th>\n",
       "      <td>91.498576</td>\n",
       "      <td>-0.000719</td>\n",
       "    </tr>\n",
       "    <tr>\n",
       "      <th>179.5</th>\n",
       "      <td>91.539013</td>\n",
       "      <td>-0.000731</td>\n",
       "    </tr>\n",
       "    <tr>\n",
       "      <th>180.0</th>\n",
       "      <td>91.579400</td>\n",
       "      <td>-0.000743</td>\n",
       "    </tr>\n",
       "    <tr>\n",
       "      <th>180.5</th>\n",
       "      <td>91.619739</td>\n",
       "      <td>-0.000755</td>\n",
       "    </tr>\n",
       "    <tr>\n",
       "      <th>181.0</th>\n",
       "      <td>91.660033</td>\n",
       "      <td>-0.000767</td>\n",
       "    </tr>\n",
       "    <tr>\n",
       "      <th>181.5</th>\n",
       "      <td>91.700286</td>\n",
       "      <td>-0.000779</td>\n",
       "    </tr>\n",
       "    <tr>\n",
       "      <th>182.0</th>\n",
       "      <td>91.740501</td>\n",
       "      <td>-0.000791</td>\n",
       "    </tr>\n",
       "  </tbody>\n",
       "</table>\n",
       "<p>365 rows × 2 columns</p>\n",
       "</div>"
      ],
      "text/plain": [
       "                G         X\n",
       "0.0    290.000000  0.000000\n",
       "0.5    287.030000  0.000000\n",
       "1.0    284.104550 -0.000044\n",
       "1.5    281.229268 -0.000090\n",
       "2.0    278.403529 -0.000096\n",
       "2.5    275.620863 -0.000020\n",
       "3.0    272.869334  0.000179\n",
       "3.5    270.131906  0.000541\n",
       "4.0    267.386792  0.001052\n",
       "4.5    264.615400  0.001636\n",
       "5.0    261.809705  0.002223\n",
       "5.5    258.971601  0.002740\n",
       "6.0    256.112255  0.003160\n",
       "6.5    253.245932  0.003498\n",
       "7.0    250.384283  0.003770\n",
       "7.5    247.536483  0.003992\n",
       "8.0    244.709378  0.004176\n",
       "8.5    241.907820  0.004334\n",
       "9.0    239.134995  0.004478\n",
       "9.5    236.392528  0.004620\n",
       "10.0   233.680592  0.004763\n",
       "10.5   230.998839  0.004906\n",
       "11.0   228.347255  0.005044\n",
       "11.5   225.726142  0.005176\n",
       "12.0   223.136086  0.005300\n",
       "12.5   220.577749  0.005417\n",
       "13.0   218.051663  0.005528\n",
       "13.5   215.558239  0.005633\n",
       "14.0   213.097773  0.005732\n",
       "14.5   210.670550  0.005825\n",
       "...           ...       ...\n",
       "167.5   90.548441 -0.000454\n",
       "168.0   90.590749 -0.000465\n",
       "168.5   90.632952 -0.000477\n",
       "169.0   90.675052 -0.000488\n",
       "169.5   90.717051 -0.000499\n",
       "170.0   90.758950 -0.000511\n",
       "170.5   90.800752 -0.000522\n",
       "171.0   90.842458 -0.000534\n",
       "171.5   90.884070 -0.000545\n",
       "172.0   90.925591 -0.000557\n",
       "172.5   90.967023 -0.000568\n",
       "173.0   91.008367 -0.000580\n",
       "173.5   91.049626 -0.000591\n",
       "174.0   91.090802 -0.000603\n",
       "174.5   91.131899 -0.000614\n",
       "175.0   91.172917 -0.000626\n",
       "175.5   91.213861 -0.000638\n",
       "176.0   91.254731 -0.000649\n",
       "176.5   91.295531 -0.000661\n",
       "177.0   91.336264 -0.000673\n",
       "177.5   91.376932 -0.000684\n",
       "178.0   91.417539 -0.000696\n",
       "178.5   91.458085 -0.000708\n",
       "179.0   91.498576 -0.000719\n",
       "179.5   91.539013 -0.000731\n",
       "180.0   91.579400 -0.000743\n",
       "180.5   91.619739 -0.000755\n",
       "181.0   91.660033 -0.000767\n",
       "181.5   91.700286 -0.000779\n",
       "182.0   91.740501 -0.000791\n",
       "\n",
       "[365 rows x 2 columns]"
      ]
     },
     "execution_count": 18,
     "metadata": {},
     "output_type": "execute_result"
    }
   ],
   "source": [
    "system.results"
   ]
  },
  {
   "cell_type": "markdown",
   "metadata": {},
   "source": [
    "The following plot shows the results of the simulation along with the actual glucose data."
   ]
  },
  {
   "cell_type": "code",
   "execution_count": 19,
   "metadata": {},
   "outputs": [
    {
     "name": "stdout",
     "output_type": "stream",
     "text": [
      "Saving figure to file chap08-fig03.pdf\n"
     ]
    },
    {
     "data": {
      "image/png": "[encoded data removed]",
      "text/plain": [
       "<matplotlib.figure.Figure at 0x1e30669dfd0>"
      ]
     },
     "metadata": {},
     "output_type": "display_data"
    }
   ],
   "source": [
    "subplot(2, 1, 1)\n",
    "\n",
    "plot(system.results.G, 'b-', label='simulation')\n",
    "plot(data.glucose, style='bo', label='glucose data')\n",
    "decorate(ylabel='mg/dL')\n",
    "\n",
    "subplot(2, 1, 2)\n",
    "\n",
    "plot(system.results.X, style='g-', label='remote insulin')\n",
    "\n",
    "decorate(xlabel='Time (min)', \n",
    "         ylabel='Arbitrary units')\n",
    "\n",
    "savefig('chap08-fig03.pdf')"
   ]
  },
  {
   "cell_type": "markdown",
   "metadata": {},
   "source": [
    "### Numerical solution\n",
    "\n",
    "We can do the same thing using `odeint`.  Instead of an update function, we provide a slope function that just evaluates the right-hand side of the differential equations.  We don't have to do the update part; `odeint` does it for us."
   ]
  },
  {
   "cell_type": "code",
   "execution_count": 20,
   "metadata": {
    "collapsed": true
   },
   "outputs": [],
   "source": [
    "def slope_func(state, t, system):\n",
    "    \"\"\"Computes derivatives of the glucose minimal model.\n",
    "    \n",
    "    state: State object\n",
    "    t: time in min\n",
    "    system: System object\n",
    "    \n",
    "    returns: derivatives of G and X\n",
    "    \"\"\"\n",
    "    G, X = state\n",
    "    unpack(system)\n",
    "    \n",
    "    dGdt = -k1 * (G - Gb) - X*G\n",
    "    dXdt = k3 * (I(t) - Ib) - k2 * X\n",
    "    \n",
    "    return dGdt, dXdt"
   ]
  },
  {
   "cell_type": "markdown",
   "metadata": {},
   "source": [
    "We can test the slope function with the initial conditions."
   ]
  },
  {
   "cell_type": "code",
   "execution_count": 21,
   "metadata": {},
   "outputs": [
    {
     "data": {
      "text/plain": [
       "(-5.9399999999999995, 0.0)"
      ]
     },
     "execution_count": 21,
     "metadata": {},
     "output_type": "execute_result"
    }
   ],
   "source": [
    "slope_func(init, 0, system)"
   ]
  },
  {
   "cell_type": "markdown",
   "metadata": {},
   "source": [
    "The `System` object we use with `run_odeint` is almost the same as the one we used with `run_simulation`, but instead of providing `t0`, `t_end`, and `dt`, we provide an array of times where we want to evaluate the solution.  In this case, we use `data.index`, so the results are evaluated at the same times as the measurements."
   ]
  },
  {
   "cell_type": "code",
   "execution_count": 22,
   "metadata": {
    "collapsed": true
   },
   "outputs": [],
   "source": [
    "system2 = System(init=init, \n",
    "                k1=k1, k2=k2, k3=k3,\n",
    "                I=I, Gb=Gb, Ib=Ib,\n",
    "                ts=data.index)"
   ]
  },
  {
   "cell_type": "markdown",
   "metadata": {},
   "source": [
    "`run_odeint` is a wrapper for `scipy.integrate.odeint`"
   ]
  },
  {
   "cell_type": "code",
   "execution_count": 23,
   "metadata": {
    "collapsed": true
   },
   "outputs": [],
   "source": [
    "%psource run_odeint"
   ]
  },
  {
   "cell_type": "markdown",
   "metadata": {},
   "source": [
    "Here's how we run it."
   ]
  },
  {
   "cell_type": "code",
   "execution_count": 24,
   "metadata": {},
   "outputs": [
    {
     "name": "stdout",
     "output_type": "stream",
     "text": [
      "Wall time: 198 ms\n"
     ]
    }
   ],
   "source": [
    "%time run_odeint(system2, slope_func)"
   ]
  },
  {
   "cell_type": "markdown",
   "metadata": {},
   "source": [
    "And here are the results."
   ]
  },
  {
   "cell_type": "code",
   "execution_count": 25,
   "metadata": {},
   "outputs": [
    {
     "data": {
      "text/html": [
       "<div>\n",
       "<style>\n",
       "    .dataframe thead tr:only-child th {\n",
       "        text-align: right;\n",
       "    }\n",
       "\n",
       "    .dataframe thead th {\n",
       "        text-align: left;\n",
       "    }\n",
       "\n",
       "    .dataframe tbody tr th {\n",
       "        vertical-align: top;\n",
       "    }\n",
       "</style>\n",
       "<table border=\"1\" class=\"dataframe\">\n",
       "  <thead>\n",
       "    <tr style=\"text-align: right;\">\n",
       "      <th></th>\n",
       "      <th>G</th>\n",
       "      <th>X</th>\n",
       "    </tr>\n",
       "    <tr>\n",
       "      <th>time</th>\n",
       "      <th></th>\n",
       "      <th></th>\n",
       "    </tr>\n",
       "  </thead>\n",
       "  <tbody>\n",
       "    <tr>\n",
       "      <th>0</th>\n",
       "      <td>290.000000</td>\n",
       "      <td>0.000000</td>\n",
       "    </tr>\n",
       "    <tr>\n",
       "      <th>2</th>\n",
       "      <td>278.503218</td>\n",
       "      <td>-0.000072</td>\n",
       "    </tr>\n",
       "    <tr>\n",
       "      <th>4</th>\n",
       "      <td>267.407044</td>\n",
       "      <td>0.001329</td>\n",
       "    </tr>\n",
       "    <tr>\n",
       "      <th>6</th>\n",
       "      <td>255.962566</td>\n",
       "      <td>0.003315</td>\n",
       "    </tr>\n",
       "    <tr>\n",
       "      <th>8</th>\n",
       "      <td>244.552487</td>\n",
       "      <td>0.004232</td>\n",
       "    </tr>\n",
       "    <tr>\n",
       "      <th>10</th>\n",
       "      <td>233.570125</td>\n",
       "      <td>0.004808</td>\n",
       "    </tr>\n",
       "    <tr>\n",
       "      <th>12</th>\n",
       "      <td>223.075469</td>\n",
       "      <td>0.005331</td>\n",
       "    </tr>\n",
       "    <tr>\n",
       "      <th>14</th>\n",
       "      <td>213.094204</td>\n",
       "      <td>0.005750</td>\n",
       "    </tr>\n",
       "    <tr>\n",
       "      <th>16</th>\n",
       "      <td>203.651201</td>\n",
       "      <td>0.006054</td>\n",
       "    </tr>\n",
       "    <tr>\n",
       "      <th>19</th>\n",
       "      <td>190.540814</td>\n",
       "      <td>0.006312</td>\n",
       "    </tr>\n",
       "    <tr>\n",
       "      <th>22</th>\n",
       "      <td>178.671483</td>\n",
       "      <td>0.006494</td>\n",
       "    </tr>\n",
       "    <tr>\n",
       "      <th>27</th>\n",
       "      <td>161.389180</td>\n",
       "      <td>0.006705</td>\n",
       "    </tr>\n",
       "    <tr>\n",
       "      <th>32</th>\n",
       "      <td>146.879018</td>\n",
       "      <td>0.006894</td>\n",
       "    </tr>\n",
       "    <tr>\n",
       "      <th>42</th>\n",
       "      <td>124.440473</td>\n",
       "      <td>0.007088</td>\n",
       "    </tr>\n",
       "    <tr>\n",
       "      <th>52</th>\n",
       "      <td>109.230932</td>\n",
       "      <td>0.006417</td>\n",
       "    </tr>\n",
       "    <tr>\n",
       "      <th>62</th>\n",
       "      <td>99.405510</td>\n",
       "      <td>0.005610</td>\n",
       "    </tr>\n",
       "    <tr>\n",
       "      <th>72</th>\n",
       "      <td>93.178906</td>\n",
       "      <td>0.004775</td>\n",
       "    </tr>\n",
       "    <tr>\n",
       "      <th>82</th>\n",
       "      <td>89.501328</td>\n",
       "      <td>0.003855</td>\n",
       "    </tr>\n",
       "    <tr>\n",
       "      <th>92</th>\n",
       "      <td>87.562395</td>\n",
       "      <td>0.002954</td>\n",
       "    </tr>\n",
       "    <tr>\n",
       "      <th>102</th>\n",
       "      <td>86.786289</td>\n",
       "      <td>0.002279</td>\n",
       "    </tr>\n",
       "    <tr>\n",
       "      <th>122</th>\n",
       "      <td>86.832321</td>\n",
       "      <td>0.001258</td>\n",
       "    </tr>\n",
       "    <tr>\n",
       "      <th>142</th>\n",
       "      <td>88.339444</td>\n",
       "      <td>0.000219</td>\n",
       "    </tr>\n",
       "    <tr>\n",
       "      <th>162</th>\n",
       "      <td>90.119786</td>\n",
       "      <td>-0.000323</td>\n",
       "    </tr>\n",
       "    <tr>\n",
       "      <th>182</th>\n",
       "      <td>91.759885</td>\n",
       "      <td>-0.000789</td>\n",
       "    </tr>\n",
       "  </tbody>\n",
       "</table>\n",
       "</div>"
      ],
      "text/plain": [
       "               G         X\n",
       "time                      \n",
       "0     290.000000  0.000000\n",
       "2     278.503218 -0.000072\n",
       "4     267.407044  0.001329\n",
       "6     255.962566  0.003315\n",
       "8     244.552487  0.004232\n",
       "10    233.570125  0.004808\n",
       "12    223.075469  0.005331\n",
       "14    213.094204  0.005750\n",
       "16    203.651201  0.006054\n",
       "19    190.540814  0.006312\n",
       "22    178.671483  0.006494\n",
       "27    161.389180  0.006705\n",
       "32    146.879018  0.006894\n",
       "42    124.440473  0.007088\n",
       "52    109.230932  0.006417\n",
       "62     99.405510  0.005610\n",
       "72     93.178906  0.004775\n",
       "82     89.501328  0.003855\n",
       "92     87.562395  0.002954\n",
       "102    86.786289  0.002279\n",
       "122    86.832321  0.001258\n",
       "142    88.339444  0.000219\n",
       "162    90.119786 -0.000323\n",
       "182    91.759885 -0.000789"
      ]
     },
     "execution_count": 25,
     "metadata": {},
     "output_type": "execute_result"
    }
   ],
   "source": [
    "system2.results"
   ]
  },
  {
   "cell_type": "markdown",
   "metadata": {},
   "source": [
    "Plotting the results from `run_simulation` and `run_odeint`, we can see that they are not very different."
   ]
  },
  {
   "cell_type": "code",
   "execution_count": 26,
   "metadata": {},
   "outputs": [
    {
     "data": {
      "image/png": "[encoded data removed]",
      "text/plain": [
       "<matplotlib.figure.Figure at 0x1e3064abe10>"
      ]
     },
     "metadata": {},
     "output_type": "display_data"
    }
   ],
   "source": [
    "plot(system.results.G, 'r-')\n",
    "plot(system2.results.G, 'b-')\n",
    "plot(data.glucose, 'bo')"
   ]
  },
  {
   "cell_type": "markdown",
   "metadata": {},
   "source": [
    "The differences are usually less than 1% and always less than 2%."
   ]
  },
  {
   "cell_type": "code",
   "execution_count": 27,
   "metadata": {},
   "outputs": [
    {
     "data": {
      "text/html": [
       "<div>\n",
       "<style>\n",
       "    .dataframe thead tr:only-child th {\n",
       "        text-align: right;\n",
       "    }\n",
       "\n",
       "    .dataframe thead th {\n",
       "        text-align: left;\n",
       "    }\n",
       "\n",
       "    .dataframe tbody tr th {\n",
       "        vertical-align: top;\n",
       "    }\n",
       "</style>\n",
       "<table border=\"1\" class=\"dataframe\">\n",
       "  <thead>\n",
       "    <tr style=\"text-align: right;\">\n",
       "      <th></th>\n",
       "      <th>G</th>\n",
       "      <th>X</th>\n",
       "    </tr>\n",
       "  </thead>\n",
       "  <tbody>\n",
       "    <tr>\n",
       "      <th>2.0</th>\n",
       "      <td>-0.035794</td>\n",
       "      <td>34.378714</td>\n",
       "    </tr>\n",
       "    <tr>\n",
       "      <th>4.0</th>\n",
       "      <td>-0.007574</td>\n",
       "      <td>-20.903093</td>\n",
       "    </tr>\n",
       "    <tr>\n",
       "      <th>6.0</th>\n",
       "      <td>0.058481</td>\n",
       "      <td>-4.666342</td>\n",
       "    </tr>\n",
       "    <tr>\n",
       "      <th>8.0</th>\n",
       "      <td>0.064154</td>\n",
       "      <td>-1.328219</td>\n",
       "    </tr>\n",
       "    <tr>\n",
       "      <th>10.0</th>\n",
       "      <td>0.047295</td>\n",
       "      <td>-0.934767</td>\n",
       "    </tr>\n",
       "    <tr>\n",
       "      <th>12.0</th>\n",
       "      <td>0.027173</td>\n",
       "      <td>-0.582564</td>\n",
       "    </tr>\n",
       "    <tr>\n",
       "      <th>14.0</th>\n",
       "      <td>0.001675</td>\n",
       "      <td>-0.312059</td>\n",
       "    </tr>\n",
       "    <tr>\n",
       "      <th>16.0</th>\n",
       "      <td>-0.028931</td>\n",
       "      <td>-0.016229</td>\n",
       "    </tr>\n",
       "    <tr>\n",
       "      <th>19.0</th>\n",
       "      <td>-0.082709</td>\n",
       "      <td>0.204179</td>\n",
       "    </tr>\n",
       "    <tr>\n",
       "      <th>22.0</th>\n",
       "      <td>-0.136334</td>\n",
       "      <td>0.202042</td>\n",
       "    </tr>\n",
       "    <tr>\n",
       "      <th>27.0</th>\n",
       "      <td>-0.218693</td>\n",
       "      <td>0.299434</td>\n",
       "    </tr>\n",
       "    <tr>\n",
       "      <th>32.0</th>\n",
       "      <td>-0.286757</td>\n",
       "      <td>0.172747</td>\n",
       "    </tr>\n",
       "    <tr>\n",
       "      <th>42.0</th>\n",
       "      <td>-0.384822</td>\n",
       "      <td>0.409781</td>\n",
       "    </tr>\n",
       "    <tr>\n",
       "      <th>52.0</th>\n",
       "      <td>-0.455501</td>\n",
       "      <td>0.567695</td>\n",
       "    </tr>\n",
       "    <tr>\n",
       "      <th>62.0</th>\n",
       "      <td>-0.467895</td>\n",
       "      <td>0.466529</td>\n",
       "    </tr>\n",
       "    <tr>\n",
       "      <th>72.0</th>\n",
       "      <td>-0.440646</td>\n",
       "      <td>0.559205</td>\n",
       "    </tr>\n",
       "    <tr>\n",
       "      <th>82.0</th>\n",
       "      <td>-0.394390</td>\n",
       "      <td>0.516638</td>\n",
       "    </tr>\n",
       "    <tr>\n",
       "      <th>92.0</th>\n",
       "      <td>-0.339047</td>\n",
       "      <td>0.565098</td>\n",
       "    </tr>\n",
       "    <tr>\n",
       "      <th>102.0</th>\n",
       "      <td>-0.275395</td>\n",
       "      <td>0.164876</td>\n",
       "    </tr>\n",
       "    <tr>\n",
       "      <th>122.0</th>\n",
       "      <td>-0.170525</td>\n",
       "      <td>0.545027</td>\n",
       "    </tr>\n",
       "    <tr>\n",
       "      <th>142.0</th>\n",
       "      <td>-0.102344</td>\n",
       "      <td>-0.885106</td>\n",
       "    </tr>\n",
       "    <tr>\n",
       "      <th>162.0</th>\n",
       "      <td>-0.048847</td>\n",
       "      <td>1.056507</td>\n",
       "    </tr>\n",
       "    <tr>\n",
       "      <th>182.0</th>\n",
       "      <td>-0.021124</td>\n",
       "      <td>0.266167</td>\n",
       "    </tr>\n",
       "  </tbody>\n",
       "</table>\n",
       "</div>"
      ],
      "text/plain": [
       "              G          X\n",
       "2.0   -0.035794  34.378714\n",
       "4.0   -0.007574 -20.903093\n",
       "6.0    0.058481  -4.666342\n",
       "8.0    0.064154  -1.328219\n",
       "10.0   0.047295  -0.934767\n",
       "12.0   0.027173  -0.582564\n",
       "14.0   0.001675  -0.312059\n",
       "16.0  -0.028931  -0.016229\n",
       "19.0  -0.082709   0.204179\n",
       "22.0  -0.136334   0.202042\n",
       "27.0  -0.218693   0.299434\n",
       "32.0  -0.286757   0.172747\n",
       "42.0  -0.384822   0.409781\n",
       "52.0  -0.455501   0.567695\n",
       "62.0  -0.467895   0.466529\n",
       "72.0  -0.440646   0.559205\n",
       "82.0  -0.394390   0.516638\n",
       "92.0  -0.339047   0.565098\n",
       "102.0 -0.275395   0.164876\n",
       "122.0 -0.170525   0.545027\n",
       "142.0 -0.102344  -0.885106\n",
       "162.0 -0.048847   1.056507\n",
       "182.0 -0.021124   0.266167"
      ]
     },
     "execution_count": 27,
     "metadata": {},
     "output_type": "execute_result"
    }
   ],
   "source": [
    "diff = system.results - system2.results\n",
    "percent_diff = diff / system2.results * 100\n",
    "percent_diff.dropna()"
   ]
  },
  {
   "cell_type": "markdown",
   "metadata": {},
   "source": [
    "**Exercise:** What happens to these errors if you run the simulation with a smaller value of `dt`?"
   ]
  },
  {
   "cell_type": "markdown",
   "metadata": {},
   "source": [
    "### Optimization"
   ]
  },
  {
   "cell_type": "markdown",
   "metadata": {},
   "source": [
    "Now let's find the parameters that yield the best fit for the data."
   ]
  },
  {
   "cell_type": "code",
   "execution_count": 28,
   "metadata": {
    "collapsed": true
   },
   "outputs": [],
   "source": [
    "k1 = 0.03\n",
    "k2 = 0.02\n",
    "k3 = 1e-05\n",
    "G0 = 500"
   ]
  },
  {
   "cell_type": "markdown",
   "metadata": {},
   "source": [
    "Again, we'll get basal levels from the initial values."
   ]
  },
  {
   "cell_type": "code",
   "execution_count": 29,
   "metadata": {
    "collapsed": true
   },
   "outputs": [],
   "source": [
    "Gb = data.glucose[0]\n",
    "Ib = data.insulin[0]"
   ]
  },
  {
   "cell_type": "markdown",
   "metadata": {},
   "source": [
    "And the slope function is the same."
   ]
  },
  {
   "cell_type": "code",
   "execution_count": 30,
   "metadata": {
    "collapsed": true
   },
   "outputs": [],
   "source": [
    "def slope_func(state, t, system):\n",
    "    \"\"\"Computes derivatives of the glucose minimal model.\n",
    "    \n",
    "    state: State object\n",
    "    t: time in min\n",
    "    system: System object\n",
    "    \n",
    "    returns: derivatives of G and X\n",
    "    \"\"\"\n",
    "    G, X = state\n",
    "    unpack(system)\n",
    "    \n",
    "    dGdt = -k1 * (G - Gb) - X*G\n",
    "    dXdt = k3 * (I(t) - Ib) - k2 * X\n",
    "    \n",
    "    return dGdt, dXdt"
   ]
  },
  {
   "cell_type": "markdown",
   "metadata": {},
   "source": [
    "`make_system` takes the parameters and `DataFrame` and returns a `System` object."
   ]
  },
  {
   "cell_type": "code",
   "execution_count": 31,
   "metadata": {
    "collapsed": true
   },
   "outputs": [],
   "source": [
    "def make_system(G0, k1, k2, k3, data):\n",
    "    \"\"\"Makes a System object with the given parameters.\n",
    "    \n",
    "    G0: initial blood glucose\n",
    "    k1: rate parameter\n",
    "    k2: rate parameter\n",
    "    k3: rate parameter\n",
    "    data: DataFrame\n",
    "    \n",
    "    returns: System object\n",
    "    \"\"\"\n",
    "    init = State(G=G0, X=0)\n",
    "    system = System(init=init, \n",
    "                    k1=k1, k2=k2, k3=k3,\n",
    "                    Gb=Gb, Ib=Ib, \n",
    "                    I=interpolate(data.insulin),\n",
    "                    ts=data.index)\n",
    "    return system"
   ]
  },
  {
   "cell_type": "markdown",
   "metadata": {},
   "source": [
    "`error_func` takes the parameters and actual data, makes a `System` object and runs it, then compares the results of the simulation to the data.  It returns an array of errors."
   ]
  },
  {
   "cell_type": "code",
   "execution_count": 32,
   "metadata": {
    "collapsed": true
   },
   "outputs": [],
   "source": [
    "def error_func(params, data):\n",
    "    \"\"\"Computes an array of errors to be minimized.\n",
    "    \n",
    "    params: sequence of parameters\n",
    "    data: DataFrame of values to be matched\n",
    "    \n",
    "    returns: array of errors\n",
    "    \"\"\"\n",
    "    print(params)\n",
    "    \n",
    "    # make a System with the given parameters\n",
    "    system = make_system(*params, data)\n",
    "    \n",
    "    # solve the ODE\n",
    "    run_odeint(system, slope_func)\n",
    "    \n",
    "    # compute the difference between the model\n",
    "    # results and actual data\n",
    "    error = system.results.G - data.glucose\n",
    "    return error.loc[8:]"
   ]
  },
  {
   "cell_type": "markdown",
   "metadata": {},
   "source": [
    "When we call `error_func`, we provide a sequence of parameters as a single object."
   ]
  },
  {
   "cell_type": "code",
   "execution_count": 33,
   "metadata": {},
   "outputs": [
    {
     "data": {
      "text/plain": [
       "(500, 0.03, 0.02, 1e-05)"
      ]
     },
     "execution_count": 33,
     "metadata": {},
     "output_type": "execute_result"
    }
   ],
   "source": [
    "params = G0, k1, k2, k3\n",
    "params"
   ]
  },
  {
   "cell_type": "markdown",
   "metadata": {},
   "source": [
    "Here's how that works:"
   ]
  },
  {
   "cell_type": "code",
   "execution_count": 34,
   "metadata": {},
   "outputs": [
    {
     "name": "stdout",
     "output_type": "stream",
     "text": [
      "(500, 0.03, 0.02, 1e-05)\n"
     ]
    },
    {
     "data": {
      "text/plain": [
       "time\n",
       "8      167.282759\n",
       "10     169.396939\n",
       "12     153.569351\n",
       "14     139.837344\n",
       "16     130.227816\n",
       "19     108.450588\n",
       "22     105.155815\n",
       "27      80.324635\n",
       "32      72.981173\n",
       "42      47.454520\n",
       "52      36.785588\n",
       "62      30.091799\n",
       "72      25.119510\n",
       "82      23.798103\n",
       "92      13.632590\n",
       "102     11.583422\n",
       "122      7.953700\n",
       "142      8.040237\n",
       "162      6.062324\n",
       "182      2.309431\n",
       "dtype: float64"
      ]
     },
     "execution_count": 34,
     "metadata": {},
     "output_type": "execute_result"
    }
   ],
   "source": [
    "error_func(params, data)"
   ]
  },
  {
   "cell_type": "markdown",
   "metadata": {},
   "source": [
    "`fit_leastsq` is a wrapper for `scipy.optimize.leastsq`"
   ]
  },
  {
   "cell_type": "code",
   "execution_count": 35,
   "metadata": {
    "collapsed": true
   },
   "outputs": [],
   "source": [
    "%psource fit_leastsq"
   ]
  },
  {
   "cell_type": "markdown",
   "metadata": {},
   "source": [
    "Here's how we call it."
   ]
  },
  {
   "cell_type": "code",
   "execution_count": 36,
   "metadata": {},
   "outputs": [
    {
     "name": "stdout",
     "output_type": "stream",
     "text": [
      "[  5.00000000e+02   3.00000000e-02   2.00000000e-02   1.00000000e-05]\n",
      "[  5.00000000e+02   3.00000000e-02   2.00000000e-02   1.00000000e-05]\n",
      "[  5.00000000e+02   3.00000000e-02   2.00000000e-02   1.00000000e-05]\n",
      "[  5.00000007e+02   3.00000000e-02   2.00000000e-02   1.00000000e-05]\n",
      "[  5.00000000e+02   3.00000004e-02   2.00000000e-02   1.00000000e-05]\n",
      "[  5.00000000e+02   3.00000000e-02   2.00000003e-02   1.00000000e-05]\n",
      "[  5.00000000e+02   3.00000000e-02   2.00000000e-02   1.00000001e-05]\n",
      "[  4.96385669e+02   2.98935291e-02   1.99293589e-02   1.01232112e-05]\n",
      "[  4.96385676e+02   2.98935291e-02   1.99293589e-02   1.01232112e-05]\n",
      "[  4.96385669e+02   2.98935296e-02   1.99293589e-02   1.01232112e-05]\n",
      "[  4.96385669e+02   2.98935291e-02   1.99293592e-02   1.01232112e-05]\n",
      "[  4.96385669e+02   2.98935291e-02   1.99293589e-02   1.01232113e-05]\n",
      "[  4.83345008e+02   2.99595301e-02   1.99167884e-02   1.01766940e-05]\n",
      "[  4.83345016e+02   2.99595301e-02   1.99167884e-02   1.01766940e-05]\n",
      "[  4.83345008e+02   2.99595306e-02   1.99167884e-02   1.01766940e-05]\n",
      "[  4.83345008e+02   2.99595301e-02   1.99167887e-02   1.01766940e-05]\n",
      "[  4.83345008e+02   2.99595301e-02   1.99167884e-02   1.01766942e-05]\n",
      "[  4.78317200e+02   3.00164040e-02   2.02916349e-02   1.00709357e-05]\n",
      "[  4.78317208e+02   3.00164040e-02   2.02916349e-02   1.00709357e-05]\n",
      "[  4.78317200e+02   3.00164044e-02   2.02916349e-02   1.00709357e-05]\n",
      "[  4.78317200e+02   3.00164040e-02   2.02916352e-02   1.00709357e-05]\n",
      "[  4.78317200e+02   3.00164040e-02   2.02916349e-02   1.00709359e-05]\n",
      "[  4.54049988e+02   3.00796898e-02   2.02815322e-02   1.01090958e-05]\n",
      "[  4.54049995e+02   3.00796898e-02   2.02815322e-02   1.01090958e-05]\n",
      "[  4.54049988e+02   3.00796903e-02   2.02815322e-02   1.01090958e-05]\n",
      "[  4.54049988e+02   3.00796898e-02   2.02815325e-02   1.01090958e-05]\n",
      "[  4.54049988e+02   3.00796898e-02   2.02815322e-02   1.01090960e-05]\n",
      "[  4.52463071e+02   3.04465024e-02   2.01578494e-02   1.01231362e-05]\n",
      "[  4.52463078e+02   3.04465024e-02   2.01578494e-02   1.01231362e-05]\n",
      "[  4.52463071e+02   3.04465028e-02   2.01578494e-02   1.01231362e-05]\n",
      "[  4.52463071e+02   3.04465024e-02   2.01578497e-02   1.01231362e-05]\n",
      "[  4.52463071e+02   3.04465024e-02   2.01578494e-02   1.01231364e-05]\n",
      "[  4.54287570e+02   3.11604072e-02   2.01598395e-02   9.85836999e-06]\n",
      "[  4.54287577e+02   3.11604072e-02   2.01598395e-02   9.85836999e-06]\n",
      "[  4.54287570e+02   3.11604077e-02   2.01598395e-02   9.85836999e-06]\n",
      "[  4.54287570e+02   3.11604072e-02   2.01598398e-02   9.85836999e-06]\n",
      "[  4.54287570e+02   3.11604072e-02   2.01598395e-02   9.85837013e-06]\n",
      "[  4.41436950e+02   3.12846426e-02   2.01992414e-02   1.00788857e-05]\n",
      "[  4.41436957e+02   3.12846426e-02   2.01992414e-02   1.00788857e-05]\n",
      "[  4.41436950e+02   3.12846431e-02   2.01992414e-02   1.00788857e-05]\n",
      "[  4.41436950e+02   3.12846426e-02   2.01992417e-02   1.00788857e-05]\n",
      "[  4.41436950e+02   3.12846426e-02   2.01992414e-02   1.00788859e-05]\n",
      "[  4.40217241e+02   3.13291946e-02   1.96699053e-02   1.01123347e-05]\n",
      "[  4.40217248e+02   3.13291946e-02   1.96699053e-02   1.01123347e-05]\n",
      "[  4.40217241e+02   3.13291951e-02   1.96699053e-02   1.01123347e-05]\n",
      "[  4.40217241e+02   3.13291946e-02   1.96699056e-02   1.01123347e-05]\n",
      "[  4.40217241e+02   3.13291946e-02   1.96699053e-02   1.01123349e-05]\n",
      "[  4.29894975e+02   3.13812772e-02   1.96469824e-02   1.01496870e-05]\n",
      "[  4.29894982e+02   3.13812772e-02   1.96469824e-02   1.01496870e-05]\n",
      "[  4.29894975e+02   3.13812776e-02   1.96469824e-02   1.01496870e-05]\n",
      "[  4.29894975e+02   3.13812772e-02   1.96469827e-02   1.01496870e-05]\n",
      "[  4.29894975e+02   3.13812772e-02   1.96469824e-02   1.01496872e-05]\n",
      "[  4.09329642e+02   3.14044835e-02   1.95761551e-02   1.02621841e-05]\n",
      "[  4.09329648e+02   3.14044835e-02   1.95761551e-02   1.02621841e-05]\n",
      "[  4.09329642e+02   3.14044840e-02   1.95761551e-02   1.02621841e-05]\n",
      "[  4.09329642e+02   3.14044835e-02   1.95761554e-02   1.02621841e-05]\n",
      "[  4.09329642e+02   3.14044835e-02   1.95761551e-02   1.02621843e-05]\n",
      "[  4.07686620e+02   3.16216935e-02   1.95261019e-02   1.02411441e-05]\n",
      "[  4.07686627e+02   3.16216935e-02   1.95261019e-02   1.02411441e-05]\n",
      "[  4.07686620e+02   3.16216940e-02   1.95261019e-02   1.02411441e-05]\n",
      "[  4.07686620e+02   3.16216935e-02   1.95261022e-02   1.02411441e-05]\n",
      "[  4.07686620e+02   3.16216935e-02   1.95261019e-02   1.02411443e-05]\n",
      "[  4.06421226e+02   3.20558880e-02   1.90325396e-02   1.01836888e-05]\n",
      "[  4.06421232e+02   3.20558880e-02   1.90325396e-02   1.01836888e-05]\n",
      "[  4.06421226e+02   3.20558884e-02   1.90325396e-02   1.01836888e-05]\n",
      "[  4.06421226e+02   3.20558880e-02   1.90325399e-02   1.01836888e-05]\n",
      "[  4.06421226e+02   3.20558880e-02   1.90325396e-02   1.01836890e-05]\n",
      "[  3.87675171e+02   3.22954727e-02   1.89602958e-02   1.02377507e-05]\n",
      "[  3.87675177e+02   3.22954727e-02   1.89602958e-02   1.02377507e-05]\n",
      "[  3.87675171e+02   3.22954732e-02   1.89602958e-02   1.02377507e-05]\n",
      "[  3.87675171e+02   3.22954727e-02   1.89602961e-02   1.02377507e-05]\n",
      "[  3.87675171e+02   3.22954727e-02   1.89602958e-02   1.02377508e-05]\n",
      "[  3.87382290e+02   3.23427114e-02   1.47256077e-02   1.02478362e-05]\n",
      "[  3.87382295e+02   3.23427114e-02   1.47256077e-02   1.02478362e-05]\n",
      "[  3.87382290e+02   3.23427119e-02   1.47256077e-02   1.02478362e-05]\n",
      "[  3.87382290e+02   3.23427114e-02   1.47256079e-02   1.02478362e-05]\n",
      "[  3.87382290e+02   3.23427114e-02   1.47256077e-02   1.02478363e-05]\n",
      "[  3.32995207e+02   3.23542807e-02   1.55494700e-02   1.20678823e-05]\n",
      "[  3.32995212e+02   3.23542807e-02   1.55494700e-02   1.20678823e-05]\n",
      "[  3.32995207e+02   3.23542812e-02   1.55494700e-02   1.20678823e-05]\n",
      "[  3.32995207e+02   3.23542807e-02   1.55494702e-02   1.20678823e-05]\n",
      "[  3.32995207e+02   3.23542807e-02   1.55494700e-02   1.20678825e-05]\n",
      "[  3.32473616e+02   3.23435846e-02   1.55767882e-02   1.20775799e-05]\n",
      "[  3.32473621e+02   3.23435846e-02   1.55767882e-02   1.20775799e-05]\n",
      "[  3.32473616e+02   3.23435851e-02   1.55767882e-02   1.20775799e-05]\n",
      "[  3.32473616e+02   3.23435846e-02   1.55767885e-02   1.20775799e-05]\n",
      "[  3.32473616e+02   3.23435846e-02   1.55767882e-02   1.20775801e-05]\n",
      "[  3.31130096e+02   3.23550173e-02   1.55734309e-02   1.20799915e-05]\n",
      "[  3.31130101e+02   3.23550173e-02   1.55734309e-02   1.20799915e-05]\n",
      "[  3.31130096e+02   3.23550178e-02   1.55734309e-02   1.20799915e-05]\n",
      "[  3.31130096e+02   3.23550173e-02   1.55734312e-02   1.20799915e-05]\n",
      "[  3.31130096e+02   3.23550173e-02   1.55734309e-02   1.20799917e-05]\n",
      "[  3.28609785e+02   3.23764602e-02   1.55671221e-02   1.20845397e-05]\n",
      "[  3.28609790e+02   3.23764602e-02   1.55671221e-02   1.20845397e-05]\n",
      "[  3.28609785e+02   3.23764607e-02   1.55671221e-02   1.20845397e-05]\n",
      "[  3.28609785e+02   3.23764602e-02   1.55671224e-02   1.20845397e-05]\n",
      "[  3.28609785e+02   3.23764602e-02   1.55671221e-02   1.20845398e-05]\n",
      "[  3.30002568e+02   3.23303248e-02   1.54849889e-02   1.20864385e-05]\n",
      "[  3.30002568e+02   3.23303248e-02   1.54849889e-02   1.20864385e-05]\n",
      "[  3.29414295e+02   3.23561462e-02   1.55192057e-02   1.20849444e-05]\n",
      "[  3.29020120e+02   3.23706952e-02   1.55426135e-02   1.20849969e-05]\n",
      "[  3.28795836e+02   3.23770513e-02   1.55563437e-02   1.20856932e-05]\n",
      "[  3.28677500e+02   3.23790977e-02   1.55642028e-02   1.20860720e-05]\n",
      "[  3.28638526e+02   3.23780918e-02   1.55668925e-02   1.20854238e-05]\n",
      "[  3.28623542e+02   3.23772442e-02   1.55672001e-02   1.20849586e-05]\n",
      "[  3.28616647e+02   3.23768487e-02   1.55671940e-02   1.20847463e-05]\n",
      "[  3.28613416e+02   3.23766650e-02   1.55671674e-02   1.20846484e-05]\n",
      "[  3.28611649e+02   3.23765652e-02   1.55671473e-02   1.20845953e-05]\n",
      "[  3.28610629e+02   3.23765077e-02   1.55671340e-02   1.20845648e-05]\n",
      "[  3.28610208e+02   3.23764840e-02   1.55671282e-02   1.20845522e-05]\n",
      "[  3.28609996e+02   3.23764721e-02   1.55671252e-02   1.20845459e-05]\n",
      "[  3.28609890e+02   3.23764662e-02   1.55671237e-02   1.20845428e-05]\n",
      "[  3.28609837e+02   3.23764632e-02   1.55671229e-02   1.20845412e-05]\n",
      "[  3.28609810e+02   3.23764617e-02   1.55671225e-02   1.20845404e-05]\n",
      "[  3.28609815e+02   3.23764617e-02   1.55671225e-02   1.20845404e-05]\n",
      "[  3.28609810e+02   3.23764621e-02   1.55671225e-02   1.20845404e-05]\n",
      "[  3.28609810e+02   3.23764617e-02   1.55671227e-02   1.20845404e-05]\n",
      "[  3.28609810e+02   3.23764617e-02   1.55671225e-02   1.20845406e-05]\n"
     ]
    },
    {
     "name": "stdout",
     "output_type": "stream",
     "text": [
      "[  3.28609798e+02   3.23764611e-02   1.55671221e-02   1.20845401e-05]\n",
      "modsim.py: scipy.optimize.leastsq ran successfully\n",
      "                 and returned the following message:\n",
      "The relative error between two consecutive iterates is at most 0.000000\n"
     ]
    }
   ],
   "source": [
    "best_params = fit_leastsq(error_func, params, data)"
   ]
  },
  {
   "cell_type": "markdown",
   "metadata": {},
   "source": [
    "Now that we have `best_params`, we can use it to make a `System` object and run it.\n",
    "\n",
    "We have to use the scatter operator, `*`, to make `best_params` behave like four separate parameters, rather than a single object."
   ]
  },
  {
   "cell_type": "code",
   "execution_count": 37,
   "metadata": {
    "collapsed": true
   },
   "outputs": [],
   "source": [
    "system = make_system(*best_params, data)\n",
    "run_odeint(system, slope_func)"
   ]
  },
  {
   "cell_type": "markdown",
   "metadata": {},
   "source": [
    "Here are the results, along with the data.  The first few points of the model don't fit the data, but we don't expect them to."
   ]
  },
  {
   "cell_type": "code",
   "execution_count": 38,
   "metadata": {},
   "outputs": [
    {
     "name": "stdout",
     "output_type": "stream",
     "text": [
      "Saving figure to file chap08-fig04.pdf\n"
     ]
    },
    {
     "data": {
      "image/png": "[encoded data removed]",
      "text/plain": [
       "<matplotlib.figure.Figure at 0x1e3067786d8>"
      ]
     },
     "metadata": {},
     "output_type": "display_data"
    }
   ],
   "source": [
    "plot(system.results.G, label='simulation')\n",
    "plot(data.glucose, style='bo', label='glucose data')\n",
    "\n",
    "decorate(xlabel='Time (min)',\n",
    "         ylabel='Concentration (mg/dL)')\n",
    "\n",
    "savefig('chap08-fig04.pdf')"
   ]
  },
  {
   "cell_type": "markdown",
   "metadata": {},
   "source": [
    "**Exercise:** Since we don't expect the first few points to agree, it's probably better not to make them part of the optimization process.  We can ignore them by leaving them out of the `Series` returned by `error_func`.  Modify the last line of `error_func` to return `errors.loc[8:]`, which includes only the elements of the `Series` from `t=8` and up.\n",
    "\n",
    "Does that improve the quality of the fit?  Does it change the best parameters by much?\n",
    "\n",
    "Note: You can read more about this use of `loc` [in the Pandas documentation](https://pandas.pydata.org/pandas-docs/stable/indexing.html#indexing-integer)."
   ]
  },
  {
   "cell_type": "markdown",
   "metadata": {},
   "source": [
    "**Exercise:** How sensitive are the results to the starting guess for the parameters.  If you try different values for the starting guess, do we get the same values for the best parameters?"
   ]
  },
  {
   "cell_type": "markdown",
   "metadata": {},
   "source": [
    "### Interpreting parameters\n",
    "\n",
    "Based on the parameters of the model, we can estimate glucose effectiveness and insulin sensitivity."
   ]
  },
  {
   "cell_type": "code",
   "execution_count": 39,
   "metadata": {
    "collapsed": true
   },
   "outputs": [],
   "source": [
    "def indices(G0, k1, k2, k3):\n",
    "    \"\"\"Compute glucose effectiveness and insulin sensitivity.\n",
    "    \n",
    "    G0: initial blood glucose\n",
    "    k1: rate parameter\n",
    "    k2: rate parameter\n",
    "    k3: rate parameter\n",
    "    data: DataFrame\n",
    "    \n",
    "    returns: State object containing S_G and S_I\n",
    "    \"\"\"\n",
    "    return State(S_G=k1, S_I=k3/k2)"
   ]
  },
  {
   "cell_type": "markdown",
   "metadata": {},
   "source": [
    "Here are the results."
   ]
  },
  {
   "cell_type": "code",
   "execution_count": 40,
   "metadata": {},
   "outputs": [
    {
     "data": {
      "text/html": [
       "<div>\n",
       "<style>\n",
       "    .dataframe thead tr:only-child th {\n",
       "        text-align: right;\n",
       "    }\n",
       "\n",
       "    .dataframe thead th {\n",
       "        text-align: left;\n",
       "    }\n",
       "\n",
       "    .dataframe tbody tr th {\n",
       "        vertical-align: top;\n",
       "    }\n",
       "</style>\n",
       "<table border=\"1\" class=\"dataframe\">\n",
       "  <thead>\n",
       "    <tr style=\"text-align: right;\">\n",
       "      <th></th>\n",
       "      <th>value</th>\n",
       "    </tr>\n",
       "  </thead>\n",
       "  <tbody>\n",
       "    <tr>\n",
       "      <th>S_G</th>\n",
       "      <td>0.032376</td>\n",
       "    </tr>\n",
       "    <tr>\n",
       "      <th>S_I</th>\n",
       "      <td>0.000776</td>\n",
       "    </tr>\n",
       "  </tbody>\n",
       "</table>\n",
       "</div>"
      ],
      "text/plain": [
       "S_G    0.032376\n",
       "S_I    0.000776\n",
       "dtype: float64"
      ]
     },
     "execution_count": 40,
     "metadata": {},
     "output_type": "execute_result"
    }
   ],
   "source": [
    "indices(*best_params)"
   ]
  },
  {
   "cell_type": "markdown",
   "metadata": {},
   "source": [
    "### The insulin minimal model\n",
    "\n",
    "In addition to the glucose minimal mode, Pacini and Bergman present an insulin minimal model, in which the concentration of insulin, $I$, is governed by this differential equation:\n",
    "\n",
    "$ \\frac{dI}{dt} = -k I(t) + \\gamma (G(t) - G_T) t $"
   ]
  },
  {
   "cell_type": "markdown",
   "metadata": {},
   "source": [
    "**Exercise:**  Write a version of `make_system` that takes the parameters of this model, `I0`, `k`, `gamma`, and `G_T` as parameters, along with a `DataFrame` containing the measurements, and returns a `System` object suitable for use with `run_simulation` or `run_odeint`.\n",
    "\n",
    "Use it to make a `System` object with the following parameters:"
   ]
  },
  {
   "cell_type": "code",
   "execution_count": 41,
   "metadata": {
    "collapsed": true
   },
   "outputs": [],
   "source": [
    "I0 = 360\n",
    "k = 0.25\n",
    "gamma = 0.004\n",
    "G_T = 80"
   ]
  },
  {
   "cell_type": "code",
   "execution_count": 42,
   "metadata": {
    "collapsed": true
   },
   "outputs": [],
   "source": [
    "# Solution goes here\n",
    "def make_system1(I0, k, gamma, G_T, data):\n",
    "    init = State(I = I0)\n",
    "    system = System(init=init, \n",
    "                    k=k, gamma=gamma, G_T=G_T,\n",
    "                    G=interpolate(data.glucose),\n",
    "                    ts=data.index)\n",
    "    return system"
   ]
  },
  {
   "cell_type": "code",
   "execution_count": 55,
   "metadata": {},
   "outputs": [],
   "source": [
    "# Solution goes here\n",
    "system1 = make_system1(I0, k, gamma, G_T, data)"
   ]
  },
  {
   "cell_type": "markdown",
   "metadata": {},
   "source": [
    "**Exercise:** Write a slope function that takes state, t, system as parameters and returns the derivative of `I` with respect to time.  Test your function with the initial condition $I(0)=360$."
   ]
  },
  {
   "cell_type": "code",
   "execution_count": 56,
   "metadata": {
    "collapsed": true
   },
   "outputs": [],
   "source": [
    "# Solution goes here\n",
    "def slope_func1(state, t, system):\n",
    "        I=state\n",
    "        unpack(system)\n",
    "        \n",
    "        dIdt = -k * I + gamma * (G(t) - G_T)*t\n",
    "        return dIdt "
   ]
  },
  {
   "cell_type": "code",
   "execution_count": 57,
   "metadata": {},
   "outputs": [
    {
     "data": {
      "text/plain": [
       "I   -90.0\n",
       "dtype: float64"
      ]
     },
     "execution_count": 57,
     "metadata": {},
     "output_type": "execute_result"
    }
   ],
   "source": [
    "# Solution goes here\n",
    "init = State(I=I0)\n",
    "slope_func1(init, 0, system1)"
   ]
  },
  {
   "cell_type": "markdown",
   "metadata": {},
   "source": [
    "**Exercise:** Run `run_odeint` with your `System` object and slope function, and plot the results, along with the measured insulin levels."
   ]
  },
  {
   "cell_type": "code",
   "execution_count": 62,
   "metadata": {},
   "outputs": [],
   "source": [
    "# Solution goes here\n",
    "run_odeint(system1, slope_func1)\n"
   ]
  },
  {
   "cell_type": "markdown",
   "metadata": {},
   "source": []
  },
  {
   "cell_type": "code",
   "execution_count": 64,
   "metadata": {},
   "outputs": [
    {
     "data": {
      "image/png": "[encoded data removed]",
      "text/plain": [
       "<matplotlib.figure.Figure at 0x1e307fae470>"
      ]
     },
     "metadata": {},
     "output_type": "display_data"
    }
   ],
   "source": [
    "# Solution goes here\n",
    "plot(system1.results, 'r-', label = 'simulation')\n",
    "plot(data.insulin, 'ro', label = 'data')\n",
    "decorate(xlabel = 'Time', ylabel = 'Concentration')"
   ]
  },
  {
   "cell_type": "markdown",
   "metadata": {},
   "source": [
    "**Exercise:**  Write an error function that takes a sequence of parameters as an argument, along with the `DataFrame` containing the measurements.  It should make a `System` object with the given parameters, run it, and compute the difference between the results of the simulation and the measured values.  Test your error function by calling it with the parameters from the previous exercise.\n",
    "\n",
    "Hint: As we did in a previous exercise, you might want to drop the errors for times prior to `t=8`."
   ]
  },
  {
   "cell_type": "code",
   "execution_count": 82,
   "metadata": {
    "collapsed": true
   },
   "outputs": [],
   "source": [
    "# Solution goes here\n",
    "def error_func1(params, data):\n",
    "    print(params)\n",
    "    system1 = make_system1(*params, data)\n",
    "    run_odeint(system1, slope_func1)\n",
    "    error = system1.results.I - data.insulin\n",
    "    return error.loc[8:]"
   ]
  },
  {
   "cell_type": "code",
   "execution_count": 83,
   "metadata": {},
   "outputs": [
    {
     "data": {
      "text/plain": [
       "[360, 0.24885580561169984, 0.003830117682076362, 80.329560998134696]"
      ]
     },
     "execution_count": 83,
     "metadata": {},
     "output_type": "execute_result"
    }
   ],
   "source": [
    "# Solution goes here\n",
    "params = [I0, k, gamma, G_T]\n",
    "params"
   ]
  },
  {
   "cell_type": "code",
   "execution_count": 84,
   "metadata": {},
   "outputs": [
    {
     "name": "stdout",
     "output_type": "stream",
     "text": [
      "[360, 0.24885580561169984, 0.003830117682076362, 80.329560998134696]\n"
     ]
    },
    {
     "data": {
      "text/plain": [
       "time\n",
       "8      10.542103\n",
       "10     -3.571861\n",
       "12     -8.495972\n",
       "14     -8.754847\n",
       "16     -4.502923\n",
       "19      0.686691\n",
       "22      1.325135\n",
       "27      5.620270\n",
       "32      2.338048\n",
       "42      7.567743\n",
       "52      8.388713\n",
       "62     -0.110951\n",
       "72     -3.845065\n",
       "82    -10.748813\n",
       "92     -7.874923\n",
       "102    -9.628370\n",
       "122    -4.314666\n",
       "142    -4.454949\n",
       "162     1.936318\n",
       "182    16.807086\n",
       "dtype: float64"
      ]
     },
     "execution_count": 84,
     "metadata": {},
     "output_type": "execute_result"
    }
   ],
   "source": [
    "# Solution goes here\n",
    "error_func1(params, data)"
   ]
  },
  {
   "cell_type": "markdown",
   "metadata": {},
   "source": [
    "**Exercise:** Use `fit_leastsq` to find the parameters that best fit the data.  Make a `System` object with those parameters, run it, and plot the results along with the measurements."
   ]
  },
  {
   "cell_type": "code",
   "execution_count": 86,
   "metadata": {},
   "outputs": [
    {
     "name": "stdout",
     "output_type": "stream",
     "text": [
      "[  3.60000000e+02   2.48855806e-01   3.83011768e-03   8.03295610e+01]\n",
      "[  3.60000000e+02   2.48855806e-01   3.83011768e-03   8.03295610e+01]\n",
      "[  3.60000000e+02   2.48855806e-01   3.83011768e-03   8.03295610e+01]\n",
      "[  3.60000005e+02   2.48855806e-01   3.83011768e-03   8.03295610e+01]\n",
      "[  3.60000000e+02   2.48855809e-01   3.83011768e-03   8.03295610e+01]\n",
      "[  3.60000000e+02   2.48855806e-01   3.83011774e-03   8.03295610e+01]\n",
      "[  3.60000000e+02   2.48855806e-01   3.83011768e-03   8.03295622e+01]\n",
      "[  3.59505369e+02   2.51249012e-01   3.75240838e-03   8.01025822e+01]\n",
      "[  3.59505374e+02   2.51249012e-01   3.75240838e-03   8.01025822e+01]\n",
      "[  3.59505369e+02   2.51249016e-01   3.75240838e-03   8.01025822e+01]\n",
      "[  3.59505369e+02   2.51249012e-01   3.75240844e-03   8.01025822e+01]\n",
      "[  3.59505369e+02   2.51249012e-01   3.75240838e-03   8.01025834e+01]\n",
      "[  3.67395866e+02   2.48874567e-01   3.75926454e-03   8.04201497e+01]\n",
      "[  3.67395866e+02   2.48874567e-01   3.75926454e-03   8.04201497e+01]\n",
      "[  3.62195200e+02   2.50529349e-01   3.76285017e-03   8.03328715e+01]\n",
      "[  3.60606935e+02   2.51040340e-01   3.75684544e-03   8.02250706e+01]\n",
      "[  3.59993423e+02   2.51175549e-01   3.75439777e-03   8.01627840e+01]\n",
      "[  3.59746478e+02   2.51216817e-01   3.75339571e-03   8.01335860e+01]\n",
      "[  3.59611831e+02   2.51235814e-01   3.75284541e-03   8.01165842e+01]\n",
      "[  3.59556851e+02   2.51242834e-01   3.75261993e-03   8.01094156e+01]\n",
      "[  3.59530193e+02   2.51246081e-01   3.75251044e-03   8.01058918e+01]\n",
      "[  3.59517328e+02   2.51247611e-01   3.75245756e-03   8.01041800e+01]\n",
      "[  3.59511126e+02   2.51248340e-01   3.75243206e-03   8.01033522e+01]\n",
      "[  3.59508138e+02   2.51248689e-01   3.75241977e-03   8.01029527e+01]\n",
      "[  3.59506701e+02   2.51248857e-01   3.75241386e-03   8.01027605e+01]\n",
      "[  3.59506011e+02   2.51248937e-01   3.75241102e-03   8.01026681e+01]\n",
      "[  3.59505679e+02   2.51248976e-01   3.75240966e-03   8.01026237e+01]\n",
      "[  3.59505519e+02   2.51248994e-01   3.75240900e-03   8.01026022e+01]\n",
      "[  3.59505442e+02   2.51249003e-01   3.75240868e-03   8.01025920e+01]\n",
      "[  3.59505448e+02   2.51249003e-01   3.75240868e-03   8.01025920e+01]\n",
      "[  3.59505442e+02   2.51249007e-01   3.75240868e-03   8.01025920e+01]\n",
      "[  3.59505442e+02   2.51249003e-01   3.75240874e-03   8.01025920e+01]\n",
      "[  3.59505442e+02   2.51249003e-01   3.75240868e-03   8.01025931e+01]\n",
      "[  3.59505424e+02   2.51248991e-01   3.75240847e-03   8.01025898e+01]\n",
      "[  3.59505434e+02   2.51248997e-01   3.75240858e-03   8.01025909e+01]\n",
      "modsim.py: scipy.optimize.leastsq ran successfully\n",
      "                 and returned the following message:\n",
      "The relative error between two consecutive iterates is at most 0.000000\n"
     ]
    }
   ],
   "source": [
    "# Solution goes here\n",
    "best_params = fit_leastsq(error_func1, params, data)"
   ]
  },
  {
   "cell_type": "code",
   "execution_count": 87,
   "metadata": {
    "collapsed": true
   },
   "outputs": [],
   "source": [
    "# Solution goes here\n",
    "system = make_system1(*best_params, data)"
   ]
  },
  {
   "cell_type": "code",
   "execution_count": 89,
   "metadata": {},
   "outputs": [],
   "source": [
    "# Solution goes here\n",
    "run_odeint(system, slope_func1)"
   ]
  },
  {
   "cell_type": "code",
   "execution_count": 91,
   "metadata": {},
   "outputs": [
    {
     "data": {
      "image/png": "[encoded data removed]",
      "text/plain": [
       "<matplotlib.figure.Figure at 0x1e30820a278>"
      ]
     },
     "metadata": {},
     "output_type": "display_data"
    }
   ],
   "source": [
    "# Solution goes here\n",
    "plot(system.results, 'r-', label = 'simulation')\n",
    "plot(data.insulin, 'ro', label = 'data')\n",
    "decorate(xlabel = 'Time', ylabel = 'Concentration')"
   ]
  },
  {
   "cell_type": "markdown",
   "metadata": {},
   "source": [
    "**Exercise:** Using the best parameters, estimate the sensitivity to glucose of the first and second phase pancreatic responsivity:\n",
    "\n",
    "$ \\phi_1 = \\frac{I_{max} - I_b}{k (G_0 - G_b)} $\n",
    "\n",
    "$ \\phi_2 = \\gamma \\times 10^4 $"
   ]
  },
  {
   "cell_type": "code",
   "execution_count": 92,
   "metadata": {},
   "outputs": [
    {
     "data": {
      "text/plain": [
       "(130, 11)"
      ]
     },
     "execution_count": 92,
     "metadata": {},
     "output_type": "execute_result"
    }
   ],
   "source": [
    "# Solution goes here\n",
    "I_max = data.insulin.max()\n",
    "Ib = data.insulin[0]\n",
    "I_max, Ib"
   ]
  },
  {
   "cell_type": "code",
   "execution_count": 95,
   "metadata": {},
   "outputs": [
    {
     "data": {
      "text/plain": [
       "(500, 92)"
      ]
     },
     "execution_count": 95,
     "metadata": {},
     "output_type": "execute_result"
    }
   ],
   "source": [
    "# Solution goes here\n",
    "\n",
    "G_max = data.glucose.max()\n",
    "Gb = data.glucose[0]\n",
    "G0, Gb"
   ]
  },
  {
   "cell_type": "code",
   "execution_count": 96,
   "metadata": {},
   "outputs": [
    {
     "data": {
      "text/plain": [
       "1.1608669597299797"
      ]
     },
     "execution_count": 96,
     "metadata": {},
     "output_type": "execute_result"
    }
   ],
   "source": [
    "# Solution goes here\n",
    "phi_1 = (I_max - Ib) / (k * (G0 - Gb))\n",
    "phi_1"
   ]
  },
  {
   "cell_type": "code",
   "execution_count": 97,
   "metadata": {},
   "outputs": [
    {
     "data": {
      "text/plain": [
       "37.524086807326519"
      ]
     },
     "execution_count": 97,
     "metadata": {},
     "output_type": "execute_result"
    }
   ],
   "source": [
    "# Solution goes here\n",
    "phi_2 = (gamma * 10**4)\n",
    "phi_2"
   ]
  },
  {
   "cell_type": "code",
   "execution_count": null,
   "metadata": {
    "collapsed": true
   },
   "outputs": [],
   "source": []
  }
 ],
 "metadata": {
  "kernelspec": {
   "display_name": "Python 3",
   "language": "python",
   "name": "python3"
  },
  "language_info": {
   "codemirror_mode": {
    "name": "ipython",
    "version": 3
   },
   "file_extension": ".py",
   "mimetype": "text/x-python",
   "name": "python",
   "nbconvert_exporter": "python",
   "pygments_lexer": "ipython3",
   "version": "3.6.1"
  }
 },
 "nbformat": 4,
 "nbformat_minor": 1
}
